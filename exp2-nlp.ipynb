{
 "cells": [
  {
   "cell_type": "code",
   "execution_count": 1,
   "id": "b2c43fb0-3c14-47a2-bbb8-1849ae9a84d6",
   "metadata": {},
   "outputs": [],
   "source": [
    "import nltk\n",
    "from nltk.tokenize import word_tokenize\n",
    "from nltk.tag import PerceptronTagger"
   ]
  },
  {
   "cell_type": "code",
   "execution_count": 2,
   "id": "fe5fb5be-eaa4-472f-ae1b-bce80b95d503",
   "metadata": {},
   "outputs": [
    {
     "name": "stderr",
     "output_type": "stream",
     "text": [
      "[nltk_data] Downloading package averaged_perceptron_tagger to\n",
      "[nltk_data]     C:\\Users\\asmee\\AppData\\Roaming\\nltk_data...\n",
      "[nltk_data]   Package averaged_perceptron_tagger is already up-to-\n",
      "[nltk_data]       date!\n"
     ]
    },
    {
     "data": {
      "text/plain": [
       "True"
      ]
     },
     "execution_count": 2,
     "metadata": {},
     "output_type": "execute_result"
    }
   ],
   "source": [
    "nltk.download('averaged_perceptron_tagger')"
   ]
  },
  {
   "cell_type": "code",
   "execution_count": 3,
   "id": "511f8d8f-813a-4141-b476-ae220d136486",
   "metadata": {},
   "outputs": [],
   "source": [
    "text = \"Natural language processing is an exciting area. We are studying about nltk. I like to listen to Taylor Swift\"\n",
    "# Tokenize the text into words\n",
    "tokens = word_tokenize(text)\n",
    "tagger = PerceptronTagger()"
   ]
  },
  {
   "cell_type": "code",
   "execution_count": 4,
   "id": "165d179a-6c6e-4f5c-8209-b0475cd78e64",
   "metadata": {},
   "outputs": [
    {
     "name": "stdout",
     "output_type": "stream",
     "text": [
      "[('Natural', 'JJ'), ('language', 'NN'), ('processing', 'NN'), ('is', 'VBZ'), ('an', 'DT'), ('exciting', 'JJ'), ('area', 'NN'), ('.', '.'), ('We', 'PRP'), ('are', 'VBP'), ('studying', 'VBG'), ('about', 'IN'), ('nltk', 'NN'), ('.', '.'), ('I', 'PRP'), ('like', 'VBP'), ('to', 'TO'), ('listen', 'VB'), ('to', 'TO'), ('Taylor', 'NNP'), ('Swift', 'NNP')]\n"
     ]
    }
   ],
   "source": [
    "pos_tags = tagger.tag(tokens)\n",
    "print (pos_tags)"
   ]
  },
  {
   "cell_type": "code",
   "execution_count": null,
   "id": "a14a04f2-1d68-4c90-b897-489b7b20f899",
   "metadata": {},
   "outputs": [],
   "source": []
  }
 ],
 "metadata": {
  "kernelspec": {
   "display_name": "Python 3 (ipykernel)",
   "language": "python",
   "name": "python3"
  },
  "language_info": {
   "codemirror_mode": {
    "name": "ipython",
    "version": 3
   },
   "file_extension": ".py",
   "mimetype": "text/x-python",
   "name": "python",
   "nbconvert_exporter": "python",
   "pygments_lexer": "ipython3",
   "version": "3.10.7"
  }
 },
 "nbformat": 4,
 "nbformat_minor": 5
}
