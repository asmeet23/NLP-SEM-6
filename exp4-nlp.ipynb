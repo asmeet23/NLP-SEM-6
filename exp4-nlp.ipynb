{
 "cells": [
  {
   "cell_type": "code",
   "execution_count": null,
   "id": "ed05b5a0-9921-4e45-91c8-181017397dfe",
   "metadata": {},
   "outputs": [],
   "source": [
    "#experiment 4 stop words"
   ]
  },
  {
   "cell_type": "code",
   "execution_count": 1,
   "id": "4d40b4e1-9375-458a-ae59-8f87e489de37",
   "metadata": {},
   "outputs": [
    {
     "name": "stderr",
     "output_type": "stream",
     "text": [
      "[nltk_data] Downloading package wordnet to\n",
      "[nltk_data]     C:\\Users\\asmee\\AppData\\Roaming\\nltk_data...\n",
      "[nltk_data]   Package wordnet is already up-to-date!\n"
     ]
    }
   ],
   "source": [
    "import nltk\n",
    "nltk.download('wordnet')\n",
    "from nltk.corpus import stopwords\n",
    "from nltk.stem import PorterStemmer, WordNetLemmatizer"
   ]
  },
  {
   "cell_type": "code",
   "execution_count": 2,
   "id": "a1da2815-c700-410a-a588-60755d8c2725",
   "metadata": {},
   "outputs": [
    {
     "name": "stderr",
     "output_type": "stream",
     "text": [
      "[nltk_data] Downloading package stopwords to\n",
      "[nltk_data]     C:\\Users\\asmee\\AppData\\Roaming\\nltk_data...\n",
      "[nltk_data]   Package stopwords is already up-to-date!\n"
     ]
    }
   ],
   "source": [
    "nltk.download('stopwords')\n",
    "text = \"Natural language processing is an exciting area. We are studying about nltk. I like to listen to Taylor Swift\"\n"
   ]
  },
  {
   "cell_type": "code",
   "execution_count": 7,
   "id": "98003e9f-92ac-4e5e-976a-4ae506e212e0",
   "metadata": {},
   "outputs": [],
   "source": [
    "stop_words = set(stopwords.words('english'))\n",
    "tokens = nltk.word_tokenize(text)\n",
    "stemmer = PorterStemmer()\n",
    "lemmatizer = WordNetLemmatizer()"
   ]
  },
  {
   "cell_type": "code",
   "execution_count": 8,
   "id": "15bb22ee-0436-44ca-bf94-d5b5de6bba5f",
   "metadata": {},
   "outputs": [],
   "source": [
    "filtered_tokens_stemmed = [stemmer.stem(token) for token in tokens if token not in stop_words]\n",
    "filtered_tokens_lemmatized = [lemmatizer.lemmatize(token) for token in tokens if token not in stop_words]"
   ]
  },
  {
   "cell_type": "code",
   "execution_count": 9,
   "id": "40ae8413-fbc3-4eca-aa08-aab242687c68",
   "metadata": {},
   "outputs": [
    {
     "name": "stdout",
     "output_type": "stream",
     "text": [
      "Stemmed tokens without stop words: ['natur', 'languag', 'process', 'excit', 'area', '.', 'we', 'studi', 'nltk', '.', 'i', 'like', 'listen', 'taylor', 'swift']\n",
      "Lemmatized tokens without stop words: ['Natural', 'language', 'processing', 'exciting', 'area', '.', 'We', 'studying', 'nltk', '.', 'I', 'like', 'listen', 'Taylor', 'Swift']\n"
     ]
    }
   ],
   "source": [
    "print(\"Stemmed tokens without stop words:\", filtered_tokens_stemmed)\n",
    "print(\"Lemmatized tokens without stop words:\", filtered_tokens_lemmatized)"
   ]
  },
  {
   "cell_type": "code",
   "execution_count": null,
   "id": "9be97f90-1065-4674-91f8-da681096e71c",
   "metadata": {},
   "outputs": [],
   "source": []
  }
 ],
 "metadata": {
  "kernelspec": {
   "display_name": "Python 3 (ipykernel)",
   "language": "python",
   "name": "python3"
  },
  "language_info": {
   "codemirror_mode": {
    "name": "ipython",
    "version": 3
   },
   "file_extension": ".py",
   "mimetype": "text/x-python",
   "name": "python",
   "nbconvert_exporter": "python",
   "pygments_lexer": "ipython3",
   "version": "3.10.7"
  }
 },
 "nbformat": 4,
 "nbformat_minor": 5
}
